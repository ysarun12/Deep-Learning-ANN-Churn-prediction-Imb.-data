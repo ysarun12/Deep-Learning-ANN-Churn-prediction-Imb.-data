{
 "cells": [
  {
   "cell_type": "code",
   "execution_count": 1,
   "id": "53d69508",
   "metadata": {},
   "outputs": [],
   "source": [
    "import numpy as np\n",
    "import pandas as pd\n",
    "import matplotlib.pyplot as plt\n",
    "import seaborn as sns\n",
    "%matplotlib inline"
   ]
  },
  {
   "cell_type": "code",
   "execution_count": 2,
   "id": "d917ba11",
   "metadata": {},
   "outputs": [],
   "source": [
    "df = pd.read_csv('C:\\\\Users\\\\User\\\\Desktop\\\\Datasets\\\\Churn_Modelling.csv')"
   ]
  },
  {
   "cell_type": "code",
   "execution_count": 3,
   "id": "090a5625",
   "metadata": {},
   "outputs": [
    {
     "data": {
      "text/html": [
       "<div>\n",
       "<style scoped>\n",
       "    .dataframe tbody tr th:only-of-type {\n",
       "        vertical-align: middle;\n",
       "    }\n",
       "\n",
       "    .dataframe tbody tr th {\n",
       "        vertical-align: top;\n",
       "    }\n",
       "\n",
       "    .dataframe thead th {\n",
       "        text-align: right;\n",
       "    }\n",
       "</style>\n",
       "<table border=\"1\" class=\"dataframe\">\n",
       "  <thead>\n",
       "    <tr style=\"text-align: right;\">\n",
       "      <th></th>\n",
       "      <th>RowNumber</th>\n",
       "      <th>CustomerId</th>\n",
       "      <th>Surname</th>\n",
       "      <th>CreditScore</th>\n",
       "      <th>Geography</th>\n",
       "      <th>Gender</th>\n",
       "      <th>Age</th>\n",
       "      <th>Tenure</th>\n",
       "      <th>Balance</th>\n",
       "      <th>NumOfProducts</th>\n",
       "      <th>HasCrCard</th>\n",
       "      <th>IsActiveMember</th>\n",
       "      <th>EstimatedSalary</th>\n",
       "      <th>Exited</th>\n",
       "    </tr>\n",
       "  </thead>\n",
       "  <tbody>\n",
       "    <tr>\n",
       "      <th>0</th>\n",
       "      <td>1</td>\n",
       "      <td>15634602</td>\n",
       "      <td>Hargrave</td>\n",
       "      <td>619</td>\n",
       "      <td>France</td>\n",
       "      <td>Female</td>\n",
       "      <td>42</td>\n",
       "      <td>2</td>\n",
       "      <td>0.00</td>\n",
       "      <td>1</td>\n",
       "      <td>1</td>\n",
       "      <td>1</td>\n",
       "      <td>101348.88</td>\n",
       "      <td>1</td>\n",
       "    </tr>\n",
       "    <tr>\n",
       "      <th>1</th>\n",
       "      <td>2</td>\n",
       "      <td>15647311</td>\n",
       "      <td>Hill</td>\n",
       "      <td>608</td>\n",
       "      <td>Spain</td>\n",
       "      <td>Female</td>\n",
       "      <td>41</td>\n",
       "      <td>1</td>\n",
       "      <td>83807.86</td>\n",
       "      <td>1</td>\n",
       "      <td>0</td>\n",
       "      <td>1</td>\n",
       "      <td>112542.58</td>\n",
       "      <td>0</td>\n",
       "    </tr>\n",
       "    <tr>\n",
       "      <th>2</th>\n",
       "      <td>3</td>\n",
       "      <td>15619304</td>\n",
       "      <td>Onio</td>\n",
       "      <td>502</td>\n",
       "      <td>France</td>\n",
       "      <td>Female</td>\n",
       "      <td>42</td>\n",
       "      <td>8</td>\n",
       "      <td>159660.80</td>\n",
       "      <td>3</td>\n",
       "      <td>1</td>\n",
       "      <td>0</td>\n",
       "      <td>113931.57</td>\n",
       "      <td>1</td>\n",
       "    </tr>\n",
       "    <tr>\n",
       "      <th>3</th>\n",
       "      <td>4</td>\n",
       "      <td>15701354</td>\n",
       "      <td>Boni</td>\n",
       "      <td>699</td>\n",
       "      <td>France</td>\n",
       "      <td>Female</td>\n",
       "      <td>39</td>\n",
       "      <td>1</td>\n",
       "      <td>0.00</td>\n",
       "      <td>2</td>\n",
       "      <td>0</td>\n",
       "      <td>0</td>\n",
       "      <td>93826.63</td>\n",
       "      <td>0</td>\n",
       "    </tr>\n",
       "    <tr>\n",
       "      <th>4</th>\n",
       "      <td>5</td>\n",
       "      <td>15737888</td>\n",
       "      <td>Mitchell</td>\n",
       "      <td>850</td>\n",
       "      <td>Spain</td>\n",
       "      <td>Female</td>\n",
       "      <td>43</td>\n",
       "      <td>2</td>\n",
       "      <td>125510.82</td>\n",
       "      <td>1</td>\n",
       "      <td>1</td>\n",
       "      <td>1</td>\n",
       "      <td>79084.10</td>\n",
       "      <td>0</td>\n",
       "    </tr>\n",
       "  </tbody>\n",
       "</table>\n",
       "</div>"
      ],
      "text/plain": [
       "   RowNumber  CustomerId   Surname  CreditScore Geography  Gender  Age  \\\n",
       "0          1    15634602  Hargrave          619    France  Female   42   \n",
       "1          2    15647311      Hill          608     Spain  Female   41   \n",
       "2          3    15619304      Onio          502    France  Female   42   \n",
       "3          4    15701354      Boni          699    France  Female   39   \n",
       "4          5    15737888  Mitchell          850     Spain  Female   43   \n",
       "\n",
       "   Tenure    Balance  NumOfProducts  HasCrCard  IsActiveMember  \\\n",
       "0       2       0.00              1          1               1   \n",
       "1       1   83807.86              1          0               1   \n",
       "2       8  159660.80              3          1               0   \n",
       "3       1       0.00              2          0               0   \n",
       "4       2  125510.82              1          1               1   \n",
       "\n",
       "   EstimatedSalary  Exited  \n",
       "0        101348.88       1  \n",
       "1        112542.58       0  \n",
       "2        113931.57       1  \n",
       "3         93826.63       0  \n",
       "4         79084.10       0  "
      ]
     },
     "execution_count": 3,
     "metadata": {},
     "output_type": "execute_result"
    }
   ],
   "source": [
    "df.head()"
   ]
  },
  {
   "cell_type": "code",
   "execution_count": 4,
   "id": "ada444b5",
   "metadata": {},
   "outputs": [],
   "source": [
    "df.drop(['RowNumber', 'CustomerId', 'Surname'], axis=1, inplace=True)"
   ]
  },
  {
   "cell_type": "code",
   "execution_count": 5,
   "id": "4690766c",
   "metadata": {},
   "outputs": [
    {
     "data": {
      "text/html": [
       "<div>\n",
       "<style scoped>\n",
       "    .dataframe tbody tr th:only-of-type {\n",
       "        vertical-align: middle;\n",
       "    }\n",
       "\n",
       "    .dataframe tbody tr th {\n",
       "        vertical-align: top;\n",
       "    }\n",
       "\n",
       "    .dataframe thead th {\n",
       "        text-align: right;\n",
       "    }\n",
       "</style>\n",
       "<table border=\"1\" class=\"dataframe\">\n",
       "  <thead>\n",
       "    <tr style=\"text-align: right;\">\n",
       "      <th></th>\n",
       "      <th>CreditScore</th>\n",
       "      <th>Geography</th>\n",
       "      <th>Gender</th>\n",
       "      <th>Age</th>\n",
       "      <th>Tenure</th>\n",
       "      <th>Balance</th>\n",
       "      <th>NumOfProducts</th>\n",
       "      <th>HasCrCard</th>\n",
       "      <th>IsActiveMember</th>\n",
       "      <th>EstimatedSalary</th>\n",
       "      <th>Exited</th>\n",
       "    </tr>\n",
       "  </thead>\n",
       "  <tbody>\n",
       "    <tr>\n",
       "      <th>0</th>\n",
       "      <td>619</td>\n",
       "      <td>France</td>\n",
       "      <td>Female</td>\n",
       "      <td>42</td>\n",
       "      <td>2</td>\n",
       "      <td>0.00</td>\n",
       "      <td>1</td>\n",
       "      <td>1</td>\n",
       "      <td>1</td>\n",
       "      <td>101348.88</td>\n",
       "      <td>1</td>\n",
       "    </tr>\n",
       "    <tr>\n",
       "      <th>1</th>\n",
       "      <td>608</td>\n",
       "      <td>Spain</td>\n",
       "      <td>Female</td>\n",
       "      <td>41</td>\n",
       "      <td>1</td>\n",
       "      <td>83807.86</td>\n",
       "      <td>1</td>\n",
       "      <td>0</td>\n",
       "      <td>1</td>\n",
       "      <td>112542.58</td>\n",
       "      <td>0</td>\n",
       "    </tr>\n",
       "    <tr>\n",
       "      <th>2</th>\n",
       "      <td>502</td>\n",
       "      <td>France</td>\n",
       "      <td>Female</td>\n",
       "      <td>42</td>\n",
       "      <td>8</td>\n",
       "      <td>159660.80</td>\n",
       "      <td>3</td>\n",
       "      <td>1</td>\n",
       "      <td>0</td>\n",
       "      <td>113931.57</td>\n",
       "      <td>1</td>\n",
       "    </tr>\n",
       "    <tr>\n",
       "      <th>3</th>\n",
       "      <td>699</td>\n",
       "      <td>France</td>\n",
       "      <td>Female</td>\n",
       "      <td>39</td>\n",
       "      <td>1</td>\n",
       "      <td>0.00</td>\n",
       "      <td>2</td>\n",
       "      <td>0</td>\n",
       "      <td>0</td>\n",
       "      <td>93826.63</td>\n",
       "      <td>0</td>\n",
       "    </tr>\n",
       "    <tr>\n",
       "      <th>4</th>\n",
       "      <td>850</td>\n",
       "      <td>Spain</td>\n",
       "      <td>Female</td>\n",
       "      <td>43</td>\n",
       "      <td>2</td>\n",
       "      <td>125510.82</td>\n",
       "      <td>1</td>\n",
       "      <td>1</td>\n",
       "      <td>1</td>\n",
       "      <td>79084.10</td>\n",
       "      <td>0</td>\n",
       "    </tr>\n",
       "  </tbody>\n",
       "</table>\n",
       "</div>"
      ],
      "text/plain": [
       "   CreditScore Geography  Gender  Age  Tenure    Balance  NumOfProducts  \\\n",
       "0          619    France  Female   42       2       0.00              1   \n",
       "1          608     Spain  Female   41       1   83807.86              1   \n",
       "2          502    France  Female   42       8  159660.80              3   \n",
       "3          699    France  Female   39       1       0.00              2   \n",
       "4          850     Spain  Female   43       2  125510.82              1   \n",
       "\n",
       "   HasCrCard  IsActiveMember  EstimatedSalary  Exited  \n",
       "0          1               1        101348.88       1  \n",
       "1          0               1        112542.58       0  \n",
       "2          1               0        113931.57       1  \n",
       "3          0               0         93826.63       0  \n",
       "4          1               1         79084.10       0  "
      ]
     },
     "execution_count": 5,
     "metadata": {},
     "output_type": "execute_result"
    }
   ],
   "source": [
    "df.head()"
   ]
  },
  {
   "cell_type": "code",
   "execution_count": 6,
   "id": "6f6a7caf",
   "metadata": {},
   "outputs": [
    {
     "data": {
      "text/plain": [
       "CreditScore        0\n",
       "Geography          0\n",
       "Gender             0\n",
       "Age                0\n",
       "Tenure             0\n",
       "Balance            0\n",
       "NumOfProducts      0\n",
       "HasCrCard          0\n",
       "IsActiveMember     0\n",
       "EstimatedSalary    0\n",
       "Exited             0\n",
       "dtype: int64"
      ]
     },
     "execution_count": 6,
     "metadata": {},
     "output_type": "execute_result"
    }
   ],
   "source": [
    "df.isnull().sum()"
   ]
  },
  {
   "cell_type": "code",
   "execution_count": 7,
   "id": "6b49e70f",
   "metadata": {},
   "outputs": [
    {
     "data": {
      "text/plain": [
       "(10000, 11)"
      ]
     },
     "execution_count": 7,
     "metadata": {},
     "output_type": "execute_result"
    }
   ],
   "source": [
    "df.shape"
   ]
  },
  {
   "cell_type": "code",
   "execution_count": 8,
   "id": "a71bd940",
   "metadata": {},
   "outputs": [
    {
     "data": {
      "text/html": [
       "<div>\n",
       "<style scoped>\n",
       "    .dataframe tbody tr th:only-of-type {\n",
       "        vertical-align: middle;\n",
       "    }\n",
       "\n",
       "    .dataframe tbody tr th {\n",
       "        vertical-align: top;\n",
       "    }\n",
       "\n",
       "    .dataframe thead th {\n",
       "        text-align: right;\n",
       "    }\n",
       "</style>\n",
       "<table border=\"1\" class=\"dataframe\">\n",
       "  <thead>\n",
       "    <tr style=\"text-align: right;\">\n",
       "      <th></th>\n",
       "      <th>CreditScore</th>\n",
       "      <th>Geography</th>\n",
       "      <th>Gender</th>\n",
       "      <th>Age</th>\n",
       "      <th>Tenure</th>\n",
       "      <th>Balance</th>\n",
       "      <th>NumOfProducts</th>\n",
       "      <th>HasCrCard</th>\n",
       "      <th>IsActiveMember</th>\n",
       "      <th>EstimatedSalary</th>\n",
       "    </tr>\n",
       "  </thead>\n",
       "  <tbody>\n",
       "    <tr>\n",
       "      <th>0</th>\n",
       "      <td>619</td>\n",
       "      <td>France</td>\n",
       "      <td>Female</td>\n",
       "      <td>42</td>\n",
       "      <td>2</td>\n",
       "      <td>0.00</td>\n",
       "      <td>1</td>\n",
       "      <td>1</td>\n",
       "      <td>1</td>\n",
       "      <td>101348.88</td>\n",
       "    </tr>\n",
       "    <tr>\n",
       "      <th>1</th>\n",
       "      <td>608</td>\n",
       "      <td>Spain</td>\n",
       "      <td>Female</td>\n",
       "      <td>41</td>\n",
       "      <td>1</td>\n",
       "      <td>83807.86</td>\n",
       "      <td>1</td>\n",
       "      <td>0</td>\n",
       "      <td>1</td>\n",
       "      <td>112542.58</td>\n",
       "    </tr>\n",
       "    <tr>\n",
       "      <th>2</th>\n",
       "      <td>502</td>\n",
       "      <td>France</td>\n",
       "      <td>Female</td>\n",
       "      <td>42</td>\n",
       "      <td>8</td>\n",
       "      <td>159660.80</td>\n",
       "      <td>3</td>\n",
       "      <td>1</td>\n",
       "      <td>0</td>\n",
       "      <td>113931.57</td>\n",
       "    </tr>\n",
       "    <tr>\n",
       "      <th>3</th>\n",
       "      <td>699</td>\n",
       "      <td>France</td>\n",
       "      <td>Female</td>\n",
       "      <td>39</td>\n",
       "      <td>1</td>\n",
       "      <td>0.00</td>\n",
       "      <td>2</td>\n",
       "      <td>0</td>\n",
       "      <td>0</td>\n",
       "      <td>93826.63</td>\n",
       "    </tr>\n",
       "    <tr>\n",
       "      <th>4</th>\n",
       "      <td>850</td>\n",
       "      <td>Spain</td>\n",
       "      <td>Female</td>\n",
       "      <td>43</td>\n",
       "      <td>2</td>\n",
       "      <td>125510.82</td>\n",
       "      <td>1</td>\n",
       "      <td>1</td>\n",
       "      <td>1</td>\n",
       "      <td>79084.10</td>\n",
       "    </tr>\n",
       "  </tbody>\n",
       "</table>\n",
       "</div>"
      ],
      "text/plain": [
       "   CreditScore Geography  Gender  Age  Tenure    Balance  NumOfProducts  \\\n",
       "0          619    France  Female   42       2       0.00              1   \n",
       "1          608     Spain  Female   41       1   83807.86              1   \n",
       "2          502    France  Female   42       8  159660.80              3   \n",
       "3          699    France  Female   39       1       0.00              2   \n",
       "4          850     Spain  Female   43       2  125510.82              1   \n",
       "\n",
       "   HasCrCard  IsActiveMember  EstimatedSalary  \n",
       "0          1               1        101348.88  \n",
       "1          0               1        112542.58  \n",
       "2          1               0        113931.57  \n",
       "3          0               0         93826.63  \n",
       "4          1               1         79084.10  "
      ]
     },
     "execution_count": 8,
     "metadata": {},
     "output_type": "execute_result"
    }
   ],
   "source": [
    "X = df.iloc[:,:-1]\n",
    "y = df.iloc[:,-1]\n",
    "X.head()"
   ]
  },
  {
   "cell_type": "code",
   "execution_count": 9,
   "id": "06592d29",
   "metadata": {},
   "outputs": [
    {
     "data": {
      "text/plain": [
       "Exited\n",
       "0    7963\n",
       "1    2037\n",
       "Name: count, dtype: int64"
      ]
     },
     "execution_count": 9,
     "metadata": {},
     "output_type": "execute_result"
    }
   ],
   "source": [
    "y.value_counts()"
   ]
  },
  {
   "cell_type": "code",
   "execution_count": 10,
   "id": "c98bbc82",
   "metadata": {},
   "outputs": [
    {
     "data": {
      "text/plain": [
       "Geography\n",
       "France     5014\n",
       "Germany    2509\n",
       "Spain      2477\n",
       "Name: count, dtype: int64"
      ]
     },
     "execution_count": 10,
     "metadata": {},
     "output_type": "execute_result"
    }
   ],
   "source": [
    "df['Geography'].value_counts()"
   ]
  },
  {
   "cell_type": "code",
   "execution_count": 11,
   "id": "8279ba7f",
   "metadata": {},
   "outputs": [],
   "source": [
    "X = pd.get_dummies(X, columns = ['Geography', 'Gender'], drop_first=True, dtype='int')"
   ]
  },
  {
   "cell_type": "code",
   "execution_count": 12,
   "id": "e9b964ea",
   "metadata": {},
   "outputs": [
    {
     "data": {
      "text/html": [
       "<div>\n",
       "<style scoped>\n",
       "    .dataframe tbody tr th:only-of-type {\n",
       "        vertical-align: middle;\n",
       "    }\n",
       "\n",
       "    .dataframe tbody tr th {\n",
       "        vertical-align: top;\n",
       "    }\n",
       "\n",
       "    .dataframe thead th {\n",
       "        text-align: right;\n",
       "    }\n",
       "</style>\n",
       "<table border=\"1\" class=\"dataframe\">\n",
       "  <thead>\n",
       "    <tr style=\"text-align: right;\">\n",
       "      <th></th>\n",
       "      <th>CreditScore</th>\n",
       "      <th>Age</th>\n",
       "      <th>Tenure</th>\n",
       "      <th>Balance</th>\n",
       "      <th>NumOfProducts</th>\n",
       "      <th>HasCrCard</th>\n",
       "      <th>IsActiveMember</th>\n",
       "      <th>EstimatedSalary</th>\n",
       "      <th>Geography_Germany</th>\n",
       "      <th>Geography_Spain</th>\n",
       "      <th>Gender_Male</th>\n",
       "    </tr>\n",
       "  </thead>\n",
       "  <tbody>\n",
       "    <tr>\n",
       "      <th>0</th>\n",
       "      <td>619</td>\n",
       "      <td>42</td>\n",
       "      <td>2</td>\n",
       "      <td>0.00</td>\n",
       "      <td>1</td>\n",
       "      <td>1</td>\n",
       "      <td>1</td>\n",
       "      <td>101348.88</td>\n",
       "      <td>0</td>\n",
       "      <td>0</td>\n",
       "      <td>0</td>\n",
       "    </tr>\n",
       "    <tr>\n",
       "      <th>1</th>\n",
       "      <td>608</td>\n",
       "      <td>41</td>\n",
       "      <td>1</td>\n",
       "      <td>83807.86</td>\n",
       "      <td>1</td>\n",
       "      <td>0</td>\n",
       "      <td>1</td>\n",
       "      <td>112542.58</td>\n",
       "      <td>0</td>\n",
       "      <td>1</td>\n",
       "      <td>0</td>\n",
       "    </tr>\n",
       "    <tr>\n",
       "      <th>2</th>\n",
       "      <td>502</td>\n",
       "      <td>42</td>\n",
       "      <td>8</td>\n",
       "      <td>159660.80</td>\n",
       "      <td>3</td>\n",
       "      <td>1</td>\n",
       "      <td>0</td>\n",
       "      <td>113931.57</td>\n",
       "      <td>0</td>\n",
       "      <td>0</td>\n",
       "      <td>0</td>\n",
       "    </tr>\n",
       "    <tr>\n",
       "      <th>3</th>\n",
       "      <td>699</td>\n",
       "      <td>39</td>\n",
       "      <td>1</td>\n",
       "      <td>0.00</td>\n",
       "      <td>2</td>\n",
       "      <td>0</td>\n",
       "      <td>0</td>\n",
       "      <td>93826.63</td>\n",
       "      <td>0</td>\n",
       "      <td>0</td>\n",
       "      <td>0</td>\n",
       "    </tr>\n",
       "    <tr>\n",
       "      <th>4</th>\n",
       "      <td>850</td>\n",
       "      <td>43</td>\n",
       "      <td>2</td>\n",
       "      <td>125510.82</td>\n",
       "      <td>1</td>\n",
       "      <td>1</td>\n",
       "      <td>1</td>\n",
       "      <td>79084.10</td>\n",
       "      <td>0</td>\n",
       "      <td>1</td>\n",
       "      <td>0</td>\n",
       "    </tr>\n",
       "  </tbody>\n",
       "</table>\n",
       "</div>"
      ],
      "text/plain": [
       "   CreditScore  Age  Tenure    Balance  NumOfProducts  HasCrCard  \\\n",
       "0          619   42       2       0.00              1          1   \n",
       "1          608   41       1   83807.86              1          0   \n",
       "2          502   42       8  159660.80              3          1   \n",
       "3          699   39       1       0.00              2          0   \n",
       "4          850   43       2  125510.82              1          1   \n",
       "\n",
       "   IsActiveMember  EstimatedSalary  Geography_Germany  Geography_Spain  \\\n",
       "0               1        101348.88                  0                0   \n",
       "1               1        112542.58                  0                1   \n",
       "2               0        113931.57                  0                0   \n",
       "3               0         93826.63                  0                0   \n",
       "4               1         79084.10                  0                1   \n",
       "\n",
       "   Gender_Male  \n",
       "0            0  \n",
       "1            0  \n",
       "2            0  \n",
       "3            0  \n",
       "4            0  "
      ]
     },
     "execution_count": 12,
     "metadata": {},
     "output_type": "execute_result"
    }
   ],
   "source": [
    "X.head()"
   ]
  },
  {
   "cell_type": "code",
   "execution_count": 13,
   "id": "e3eedc9d",
   "metadata": {},
   "outputs": [],
   "source": [
    "from sklearn.model_selection import train_test_split\n",
    "\n",
    "X_train,X_test,y_train,y_test = train_test_split(X, y, test_size=0.3, stratify=y, random_state=0)"
   ]
  },
  {
   "cell_type": "code",
   "execution_count": 14,
   "id": "db3a481b",
   "metadata": {},
   "outputs": [],
   "source": [
    "from sklearn.preprocessing import StandardScaler"
   ]
  },
  {
   "cell_type": "code",
   "execution_count": 15,
   "id": "f8b2354b",
   "metadata": {},
   "outputs": [],
   "source": [
    "scaler = StandardScaler()\n",
    "\n",
    "X_train = scaler.fit_transform(X_train)\n",
    "X_test = scaler.transform(X_test)"
   ]
  },
  {
   "cell_type": "code",
   "execution_count": 22,
   "id": "abce7a1c",
   "metadata": {},
   "outputs": [
    {
     "name": "stdout",
     "output_type": "stream",
     "text": [
      "WARNING:tensorflow:From C:\\Users\\User\\anaconda3\\Lib\\site-packages\\keras\\src\\losses.py:2976: The name tf.losses.sparse_softmax_cross_entropy is deprecated. Please use tf.compat.v1.losses.sparse_softmax_cross_entropy instead.\n",
      "\n"
     ]
    }
   ],
   "source": [
    "from tensorflow import keras"
   ]
  },
  {
   "cell_type": "code",
   "execution_count": 23,
   "id": "f8bf8107",
   "metadata": {},
   "outputs": [],
   "source": [
    "from keras.models import Sequential\n",
    "from keras.layers import Dense, Dropout"
   ]
  },
  {
   "cell_type": "code",
   "execution_count": 24,
   "id": "d943c7c1",
   "metadata": {},
   "outputs": [
    {
     "name": "stdout",
     "output_type": "stream",
     "text": [
      "WARNING:tensorflow:From C:\\Users\\User\\anaconda3\\Lib\\site-packages\\keras\\src\\backend.py:873: The name tf.get_default_graph is deprecated. Please use tf.compat.v1.get_default_graph instead.\n",
      "\n"
     ]
    }
   ],
   "source": [
    "classifier = Sequential()"
   ]
  },
  {
   "cell_type": "code",
   "execution_count": 25,
   "id": "f646ea03",
   "metadata": {},
   "outputs": [],
   "source": [
    "classifier.add(Dense(units=10, kernel_initializer = 'he_normal', activation='relu', input_dim=11))\n",
    "classifier.add(Dropout(0.3))\n",
    "classifier.add(Dense(units=20, kernel_initializer = 'he_normal', activation='relu'))\n",
    "classifier.add(Dropout(0.4))\n",
    "classifier.add(Dense(units=15, kernel_initializer = 'he_normal', activation='relu'))\n",
    "classifier.add(Dropout(0.2))"
   ]
  },
  {
   "cell_type": "code",
   "execution_count": 26,
   "id": "033a2946",
   "metadata": {},
   "outputs": [],
   "source": [
    "classifier.add(Dense(units=1, kernel_initializer = 'glorot_uniform', activation='sigmoid'))"
   ]
  },
  {
   "cell_type": "code",
   "execution_count": 27,
   "id": "bd2ba045",
   "metadata": {},
   "outputs": [
    {
     "name": "stdout",
     "output_type": "stream",
     "text": [
      "WARNING:tensorflow:From C:\\Users\\User\\anaconda3\\Lib\\site-packages\\keras\\src\\optimizers\\__init__.py:309: The name tf.train.Optimizer is deprecated. Please use tf.compat.v1.train.Optimizer instead.\n",
      "\n"
     ]
    }
   ],
   "source": [
    "classifier.compile(optimizer='adam', loss='binary_crossentropy', metrics=['accuracy'])"
   ]
  },
  {
   "cell_type": "code",
   "execution_count": 39,
   "id": "4090a9ca",
   "metadata": {},
   "outputs": [
    {
     "name": "stdout",
     "output_type": "stream",
     "text": [
      "Epoch 1/100\n",
      "WARNING:tensorflow:From C:\\Users\\User\\anaconda3\\Lib\\site-packages\\keras\\src\\utils\\tf_utils.py:492: The name tf.ragged.RaggedTensorValue is deprecated. Please use tf.compat.v1.ragged.RaggedTensorValue instead.\n",
      "\n",
      "WARNING:tensorflow:From C:\\Users\\User\\anaconda3\\Lib\\site-packages\\keras\\src\\engine\\base_layer_utils.py:384: The name tf.executing_eagerly_outside_functions is deprecated. Please use tf.compat.v1.executing_eagerly_outside_functions instead.\n",
      "\n",
      "112/112 [==============================] - 2s 5ms/step - loss: 0.7041 - accuracy: 0.6855 - val_loss: 0.4814 - val_accuracy: 0.8179\n",
      "Epoch 2/100\n",
      "112/112 [==============================] - 0s 4ms/step - loss: 0.5882 - accuracy: 0.7511 - val_loss: 0.4768 - val_accuracy: 0.8179\n",
      "Epoch 3/100\n",
      "112/112 [==============================] - 0s 4ms/step - loss: 0.5593 - accuracy: 0.7682 - val_loss: 0.4724 - val_accuracy: 0.8179\n",
      "Epoch 4/100\n",
      "112/112 [==============================] - 0s 4ms/step - loss: 0.5263 - accuracy: 0.7788 - val_loss: 0.4668 - val_accuracy: 0.8179\n",
      "Epoch 5/100\n",
      "112/112 [==============================] - 0s 3ms/step - loss: 0.5171 - accuracy: 0.7843 - val_loss: 0.4604 - val_accuracy: 0.8179\n",
      "Epoch 6/100\n",
      "112/112 [==============================] - 1s 5ms/step - loss: 0.5111 - accuracy: 0.7837 - val_loss: 0.4609 - val_accuracy: 0.8179\n",
      "Epoch 7/100\n",
      "112/112 [==============================] - 0s 4ms/step - loss: 0.4958 - accuracy: 0.7877 - val_loss: 0.4496 - val_accuracy: 0.8179\n",
      "Epoch 8/100\n",
      "112/112 [==============================] - 0s 3ms/step - loss: 0.4985 - accuracy: 0.7887 - val_loss: 0.4517 - val_accuracy: 0.8179\n",
      "Epoch 9/100\n",
      "112/112 [==============================] - 0s 3ms/step - loss: 0.4911 - accuracy: 0.7895 - val_loss: 0.4470 - val_accuracy: 0.8179\n",
      "Epoch 10/100\n",
      "112/112 [==============================] - 0s 3ms/step - loss: 0.4883 - accuracy: 0.7902 - val_loss: 0.4413 - val_accuracy: 0.8179\n",
      "Epoch 11/100\n",
      "112/112 [==============================] - 0s 3ms/step - loss: 0.4826 - accuracy: 0.7914 - val_loss: 0.4401 - val_accuracy: 0.8186\n",
      "Epoch 12/100\n",
      "112/112 [==============================] - 0s 3ms/step - loss: 0.4887 - accuracy: 0.7904 - val_loss: 0.4389 - val_accuracy: 0.8193\n",
      "Epoch 13/100\n",
      "112/112 [==============================] - 0s 3ms/step - loss: 0.4802 - accuracy: 0.7912 - val_loss: 0.4347 - val_accuracy: 0.8193\n",
      "Epoch 14/100\n",
      "112/112 [==============================] - 0s 3ms/step - loss: 0.4747 - accuracy: 0.7920 - val_loss: 0.4293 - val_accuracy: 0.8200\n",
      "Epoch 15/100\n",
      "112/112 [==============================] - 0s 3ms/step - loss: 0.4756 - accuracy: 0.7916 - val_loss: 0.4263 - val_accuracy: 0.8214\n",
      "Epoch 16/100\n",
      "112/112 [==============================] - 0s 3ms/step - loss: 0.4693 - accuracy: 0.7941 - val_loss: 0.4200 - val_accuracy: 0.8229\n",
      "Epoch 17/100\n",
      "112/112 [==============================] - 0s 3ms/step - loss: 0.4641 - accuracy: 0.7964 - val_loss: 0.4169 - val_accuracy: 0.8243\n",
      "Epoch 18/100\n",
      "112/112 [==============================] - 0s 3ms/step - loss: 0.4591 - accuracy: 0.7984 - val_loss: 0.4146 - val_accuracy: 0.8271\n",
      "Epoch 19/100\n",
      "112/112 [==============================] - 0s 3ms/step - loss: 0.4590 - accuracy: 0.7993 - val_loss: 0.4106 - val_accuracy: 0.8257\n",
      "Epoch 20/100\n",
      "112/112 [==============================] - 0s 3ms/step - loss: 0.4532 - accuracy: 0.7996 - val_loss: 0.4032 - val_accuracy: 0.8279\n",
      "Epoch 21/100\n",
      "112/112 [==============================] - 0s 3ms/step - loss: 0.4465 - accuracy: 0.8066 - val_loss: 0.3985 - val_accuracy: 0.8321\n",
      "Epoch 22/100\n",
      "112/112 [==============================] - 0s 3ms/step - loss: 0.4492 - accuracy: 0.8080 - val_loss: 0.3953 - val_accuracy: 0.8350\n",
      "Epoch 23/100\n",
      "112/112 [==============================] - 0s 3ms/step - loss: 0.4423 - accuracy: 0.8120 - val_loss: 0.3883 - val_accuracy: 0.8429\n",
      "Epoch 24/100\n",
      "112/112 [==============================] - 0s 3ms/step - loss: 0.4403 - accuracy: 0.8086 - val_loss: 0.3860 - val_accuracy: 0.8471\n",
      "Epoch 25/100\n",
      "112/112 [==============================] - 0s 3ms/step - loss: 0.4386 - accuracy: 0.8082 - val_loss: 0.3850 - val_accuracy: 0.8486\n",
      "Epoch 26/100\n",
      "112/112 [==============================] - 0s 3ms/step - loss: 0.4383 - accuracy: 0.8120 - val_loss: 0.3819 - val_accuracy: 0.8543\n",
      "Epoch 27/100\n",
      "112/112 [==============================] - 0s 3ms/step - loss: 0.4301 - accuracy: 0.8177 - val_loss: 0.3741 - val_accuracy: 0.8550\n",
      "Epoch 28/100\n",
      "112/112 [==============================] - 0s 4ms/step - loss: 0.4313 - accuracy: 0.8157 - val_loss: 0.3769 - val_accuracy: 0.8564\n",
      "Epoch 29/100\n",
      "112/112 [==============================] - 0s 4ms/step - loss: 0.4292 - accuracy: 0.8157 - val_loss: 0.3747 - val_accuracy: 0.8586\n",
      "Epoch 30/100\n",
      "112/112 [==============================] - 1s 5ms/step - loss: 0.4243 - accuracy: 0.8196 - val_loss: 0.3733 - val_accuracy: 0.8521\n",
      "Epoch 31/100\n",
      "112/112 [==============================] - 0s 4ms/step - loss: 0.4287 - accuracy: 0.8155 - val_loss: 0.3701 - val_accuracy: 0.8586\n",
      "Epoch 32/100\n",
      "112/112 [==============================] - 1s 5ms/step - loss: 0.4252 - accuracy: 0.8168 - val_loss: 0.3703 - val_accuracy: 0.8586\n",
      "Epoch 33/100\n",
      "112/112 [==============================] - 0s 4ms/step - loss: 0.4201 - accuracy: 0.8257 - val_loss: 0.3673 - val_accuracy: 0.8607\n",
      "Epoch 34/100\n",
      "112/112 [==============================] - 0s 3ms/step - loss: 0.4164 - accuracy: 0.8221 - val_loss: 0.3686 - val_accuracy: 0.8636\n",
      "Epoch 35/100\n",
      "112/112 [==============================] - 0s 3ms/step - loss: 0.4205 - accuracy: 0.8186 - val_loss: 0.3696 - val_accuracy: 0.8614\n",
      "Epoch 36/100\n",
      "112/112 [==============================] - 0s 4ms/step - loss: 0.4179 - accuracy: 0.8230 - val_loss: 0.3652 - val_accuracy: 0.8636\n",
      "Epoch 37/100\n",
      "112/112 [==============================] - 0s 3ms/step - loss: 0.4106 - accuracy: 0.8239 - val_loss: 0.3594 - val_accuracy: 0.8636\n",
      "Epoch 38/100\n",
      "112/112 [==============================] - 0s 4ms/step - loss: 0.4195 - accuracy: 0.8216 - val_loss: 0.3627 - val_accuracy: 0.8600\n",
      "Epoch 39/100\n",
      "112/112 [==============================] - 0s 4ms/step - loss: 0.4152 - accuracy: 0.8230 - val_loss: 0.3615 - val_accuracy: 0.8657\n",
      "Epoch 40/100\n",
      "112/112 [==============================] - 0s 4ms/step - loss: 0.4158 - accuracy: 0.8234 - val_loss: 0.3622 - val_accuracy: 0.8664\n",
      "Epoch 41/100\n",
      "112/112 [==============================] - 0s 4ms/step - loss: 0.4125 - accuracy: 0.8254 - val_loss: 0.3617 - val_accuracy: 0.8643\n",
      "Epoch 42/100\n",
      "112/112 [==============================] - 0s 4ms/step - loss: 0.4153 - accuracy: 0.8238 - val_loss: 0.3598 - val_accuracy: 0.8614\n",
      "Epoch 43/100\n",
      "112/112 [==============================] - 0s 3ms/step - loss: 0.4093 - accuracy: 0.8241 - val_loss: 0.3589 - val_accuracy: 0.8650\n",
      "Epoch 44/100\n",
      "112/112 [==============================] - 0s 3ms/step - loss: 0.4119 - accuracy: 0.8270 - val_loss: 0.3580 - val_accuracy: 0.8629\n",
      "Epoch 45/100\n",
      "112/112 [==============================] - 0s 4ms/step - loss: 0.4099 - accuracy: 0.8279 - val_loss: 0.3555 - val_accuracy: 0.8636\n",
      "Epoch 46/100\n",
      "112/112 [==============================] - 1s 5ms/step - loss: 0.4037 - accuracy: 0.8275 - val_loss: 0.3529 - val_accuracy: 0.8643\n",
      "Epoch 47/100\n",
      "112/112 [==============================] - 0s 4ms/step - loss: 0.4097 - accuracy: 0.8268 - val_loss: 0.3568 - val_accuracy: 0.8636\n",
      "Epoch 48/100\n",
      "112/112 [==============================] - 0s 4ms/step - loss: 0.4093 - accuracy: 0.8279 - val_loss: 0.3569 - val_accuracy: 0.8643\n",
      "Epoch 49/100\n",
      "112/112 [==============================] - 0s 3ms/step - loss: 0.4063 - accuracy: 0.8268 - val_loss: 0.3542 - val_accuracy: 0.8700\n",
      "Epoch 50/100\n",
      "112/112 [==============================] - 0s 3ms/step - loss: 0.3952 - accuracy: 0.8325 - val_loss: 0.3500 - val_accuracy: 0.8621\n",
      "Epoch 51/100\n",
      "112/112 [==============================] - 0s 3ms/step - loss: 0.4079 - accuracy: 0.8270 - val_loss: 0.3522 - val_accuracy: 0.8586\n",
      "Epoch 52/100\n",
      "112/112 [==============================] - 0s 3ms/step - loss: 0.4011 - accuracy: 0.8263 - val_loss: 0.3509 - val_accuracy: 0.8614\n",
      "Epoch 53/100\n",
      "112/112 [==============================] - 0s 3ms/step - loss: 0.3991 - accuracy: 0.8316 - val_loss: 0.3508 - val_accuracy: 0.8643\n",
      "Epoch 54/100\n",
      "112/112 [==============================] - 0s 4ms/step - loss: 0.4009 - accuracy: 0.8323 - val_loss: 0.3495 - val_accuracy: 0.8636\n"
     ]
    },
    {
     "name": "stdout",
     "output_type": "stream",
     "text": [
      "Epoch 55/100\n",
      "112/112 [==============================] - 0s 4ms/step - loss: 0.3987 - accuracy: 0.8343 - val_loss: 0.3492 - val_accuracy: 0.8657\n",
      "Epoch 56/100\n",
      "112/112 [==============================] - 0s 3ms/step - loss: 0.3933 - accuracy: 0.8375 - val_loss: 0.3476 - val_accuracy: 0.8664\n",
      "Epoch 57/100\n",
      "112/112 [==============================] - 0s 3ms/step - loss: 0.3934 - accuracy: 0.8321 - val_loss: 0.3479 - val_accuracy: 0.8657\n",
      "Epoch 58/100\n",
      "112/112 [==============================] - 0s 3ms/step - loss: 0.3953 - accuracy: 0.8363 - val_loss: 0.3466 - val_accuracy: 0.8657\n",
      "Epoch 59/100\n",
      "112/112 [==============================] - 0s 3ms/step - loss: 0.3969 - accuracy: 0.8288 - val_loss: 0.3464 - val_accuracy: 0.8679\n",
      "Epoch 60/100\n",
      "112/112 [==============================] - 0s 3ms/step - loss: 0.3974 - accuracy: 0.8345 - val_loss: 0.3484 - val_accuracy: 0.8650\n",
      "Epoch 61/100\n",
      "112/112 [==============================] - 0s 3ms/step - loss: 0.3931 - accuracy: 0.8339 - val_loss: 0.3458 - val_accuracy: 0.8650\n",
      "Epoch 62/100\n",
      "112/112 [==============================] - 0s 2ms/step - loss: 0.3957 - accuracy: 0.8307 - val_loss: 0.3484 - val_accuracy: 0.8614\n",
      "Epoch 63/100\n",
      "112/112 [==============================] - 0s 3ms/step - loss: 0.4037 - accuracy: 0.8275 - val_loss: 0.3512 - val_accuracy: 0.8614\n",
      "Epoch 64/100\n",
      "112/112 [==============================] - 0s 3ms/step - loss: 0.3924 - accuracy: 0.8320 - val_loss: 0.3479 - val_accuracy: 0.8621\n",
      "Epoch 65/100\n",
      "112/112 [==============================] - 0s 3ms/step - loss: 0.3909 - accuracy: 0.8400 - val_loss: 0.3468 - val_accuracy: 0.8671\n",
      "Epoch 66/100\n",
      "112/112 [==============================] - 0s 3ms/step - loss: 0.3947 - accuracy: 0.8250 - val_loss: 0.3470 - val_accuracy: 0.8629\n",
      "Epoch 67/100\n",
      "112/112 [==============================] - 0s 3ms/step - loss: 0.3888 - accuracy: 0.8341 - val_loss: 0.3429 - val_accuracy: 0.8679\n",
      "Epoch 68/100\n",
      "112/112 [==============================] - 0s 3ms/step - loss: 0.3892 - accuracy: 0.8393 - val_loss: 0.3420 - val_accuracy: 0.8700\n",
      "Epoch 69/100\n",
      "112/112 [==============================] - 0s 3ms/step - loss: 0.3918 - accuracy: 0.8320 - val_loss: 0.3435 - val_accuracy: 0.8664\n",
      "Epoch 70/100\n",
      "112/112 [==============================] - 0s 3ms/step - loss: 0.3989 - accuracy: 0.8295 - val_loss: 0.3441 - val_accuracy: 0.8679\n",
      "Epoch 71/100\n",
      "112/112 [==============================] - 0s 3ms/step - loss: 0.3920 - accuracy: 0.8325 - val_loss: 0.3438 - val_accuracy: 0.8693\n",
      "Epoch 72/100\n",
      "112/112 [==============================] - 0s 3ms/step - loss: 0.4000 - accuracy: 0.8321 - val_loss: 0.3493 - val_accuracy: 0.8557\n",
      "Epoch 73/100\n",
      "112/112 [==============================] - 0s 3ms/step - loss: 0.3964 - accuracy: 0.8345 - val_loss: 0.3442 - val_accuracy: 0.8679\n",
      "Epoch 74/100\n",
      "112/112 [==============================] - 0s 3ms/step - loss: 0.3927 - accuracy: 0.8277 - val_loss: 0.3444 - val_accuracy: 0.8693\n",
      "Epoch 75/100\n",
      "112/112 [==============================] - 0s 3ms/step - loss: 0.3935 - accuracy: 0.8309 - val_loss: 0.3429 - val_accuracy: 0.8693\n",
      "Epoch 76/100\n",
      "112/112 [==============================] - 0s 2ms/step - loss: 0.3925 - accuracy: 0.8323 - val_loss: 0.3420 - val_accuracy: 0.8707\n",
      "Epoch 77/100\n",
      "112/112 [==============================] - 0s 3ms/step - loss: 0.3932 - accuracy: 0.8350 - val_loss: 0.3385 - val_accuracy: 0.8700\n",
      "Epoch 78/100\n",
      "112/112 [==============================] - 0s 2ms/step - loss: 0.3874 - accuracy: 0.8352 - val_loss: 0.3383 - val_accuracy: 0.8679\n",
      "Epoch 79/100\n",
      "112/112 [==============================] - 0s 3ms/step - loss: 0.3877 - accuracy: 0.8380 - val_loss: 0.3406 - val_accuracy: 0.8664\n",
      "Epoch 80/100\n",
      "112/112 [==============================] - 0s 3ms/step - loss: 0.3858 - accuracy: 0.8352 - val_loss: 0.3401 - val_accuracy: 0.8700\n",
      "Epoch 81/100\n",
      "112/112 [==============================] - 0s 3ms/step - loss: 0.3942 - accuracy: 0.8316 - val_loss: 0.3437 - val_accuracy: 0.8657\n",
      "Epoch 82/100\n",
      "112/112 [==============================] - 0s 2ms/step - loss: 0.3880 - accuracy: 0.8354 - val_loss: 0.3433 - val_accuracy: 0.8686\n",
      "Epoch 83/100\n",
      "112/112 [==============================] - 0s 3ms/step - loss: 0.3862 - accuracy: 0.8395 - val_loss: 0.3447 - val_accuracy: 0.8679\n",
      "Epoch 84/100\n",
      "112/112 [==============================] - 0s 2ms/step - loss: 0.3841 - accuracy: 0.8371 - val_loss: 0.3404 - val_accuracy: 0.8643\n",
      "Epoch 85/100\n",
      "112/112 [==============================] - 0s 3ms/step - loss: 0.3821 - accuracy: 0.8411 - val_loss: 0.3384 - val_accuracy: 0.8693\n",
      "Epoch 86/100\n",
      "112/112 [==============================] - 0s 3ms/step - loss: 0.3874 - accuracy: 0.8345 - val_loss: 0.3383 - val_accuracy: 0.8664\n",
      "Epoch 87/100\n",
      "112/112 [==============================] - 0s 2ms/step - loss: 0.3869 - accuracy: 0.8320 - val_loss: 0.3383 - val_accuracy: 0.8679\n",
      "Epoch 88/100\n",
      "112/112 [==============================] - 0s 2ms/step - loss: 0.3899 - accuracy: 0.8330 - val_loss: 0.3409 - val_accuracy: 0.8679\n",
      "Epoch 89/100\n",
      "112/112 [==============================] - 0s 3ms/step - loss: 0.3847 - accuracy: 0.8364 - val_loss: 0.3393 - val_accuracy: 0.8686\n",
      "Epoch 90/100\n",
      "112/112 [==============================] - 0s 3ms/step - loss: 0.3770 - accuracy: 0.8386 - val_loss: 0.3384 - val_accuracy: 0.8714\n",
      "Epoch 91/100\n",
      "112/112 [==============================] - 0s 2ms/step - loss: 0.3911 - accuracy: 0.8305 - val_loss: 0.3396 - val_accuracy: 0.8657\n",
      "Epoch 92/100\n",
      "112/112 [==============================] - 0s 3ms/step - loss: 0.3856 - accuracy: 0.8382 - val_loss: 0.3388 - val_accuracy: 0.8671\n",
      "Epoch 93/100\n",
      "112/112 [==============================] - 0s 3ms/step - loss: 0.3826 - accuracy: 0.8373 - val_loss: 0.3389 - val_accuracy: 0.8686\n",
      "Epoch 94/100\n",
      "112/112 [==============================] - 0s 3ms/step - loss: 0.3891 - accuracy: 0.8384 - val_loss: 0.3410 - val_accuracy: 0.8664\n",
      "Epoch 95/100\n",
      "112/112 [==============================] - 0s 3ms/step - loss: 0.3843 - accuracy: 0.8373 - val_loss: 0.3401 - val_accuracy: 0.8664\n",
      "Epoch 96/100\n",
      "112/112 [==============================] - 0s 3ms/step - loss: 0.3843 - accuracy: 0.8377 - val_loss: 0.3390 - val_accuracy: 0.8679\n",
      "Epoch 97/100\n",
      "112/112 [==============================] - 0s 2ms/step - loss: 0.3799 - accuracy: 0.8430 - val_loss: 0.3425 - val_accuracy: 0.8657\n",
      "Epoch 98/100\n",
      "112/112 [==============================] - 0s 3ms/step - loss: 0.3835 - accuracy: 0.8411 - val_loss: 0.3423 - val_accuracy: 0.8671\n",
      "Epoch 99/100\n",
      "112/112 [==============================] - 0s 3ms/step - loss: 0.3843 - accuracy: 0.8395 - val_loss: 0.3414 - val_accuracy: 0.8621\n",
      "Epoch 100/100\n",
      "112/112 [==============================] - 0s 2ms/step - loss: 0.3766 - accuracy: 0.8405 - val_loss: 0.3375 - val_accuracy: 0.8707\n"
     ]
    }
   ],
   "source": [
    "model_history = classifier.fit(X_train, y_train, validation_split=0.2, batch_size=50, epochs=100)"
   ]
  },
  {
   "cell_type": "code",
   "execution_count": 40,
   "id": "67cee21b",
   "metadata": {},
   "outputs": [
    {
     "name": "stdout",
     "output_type": "stream",
     "text": [
      "94/94 [==============================] - 0s 2ms/step - loss: 0.3716 - accuracy: 0.8437\n"
     ]
    },
    {
     "data": {
      "text/plain": [
       "[0.3715527355670929, 0.843666672706604]"
      ]
     },
     "execution_count": 40,
     "metadata": {},
     "output_type": "execute_result"
    }
   ],
   "source": [
    "classifier.evaluate(X_test,y_test)"
   ]
  },
  {
   "cell_type": "code",
   "execution_count": 41,
   "id": "3d947a8f",
   "metadata": {},
   "outputs": [
    {
     "name": "stdout",
     "output_type": "stream",
     "text": [
      "94/94 [==============================] - 0s 1ms/step\n"
     ]
    }
   ],
   "source": [
    "y_pred = classifier.predict(X_test)"
   ]
  },
  {
   "cell_type": "code",
   "execution_count": 42,
   "id": "91c5dcab",
   "metadata": {},
   "outputs": [
    {
     "data": {
      "text/plain": [
       "array([[0.12476617],\n",
       "       [0.4081246 ],\n",
       "       [0.35436463],\n",
       "       [0.08447116],\n",
       "       [0.05120019]], dtype=float32)"
      ]
     },
     "execution_count": 42,
     "metadata": {},
     "output_type": "execute_result"
    }
   ],
   "source": [
    "y_pred[:5]"
   ]
  },
  {
   "cell_type": "code",
   "execution_count": 43,
   "id": "33699da4",
   "metadata": {},
   "outputs": [
    {
     "data": {
      "text/plain": [
       "3714    0\n",
       "7308    1\n",
       "7156    0\n",
       "2572    0\n",
       "2711    0\n",
       "Name: Exited, dtype: int64"
      ]
     },
     "execution_count": 43,
     "metadata": {},
     "output_type": "execute_result"
    }
   ],
   "source": [
    "y_test[:5]"
   ]
  },
  {
   "cell_type": "code",
   "execution_count": 44,
   "id": "33f2eeb6",
   "metadata": {},
   "outputs": [],
   "source": [
    "y_pred_f = []\n",
    "\n",
    "for x in y_pred:\n",
    "    if x>0.5:\n",
    "        y_pred_f.append(1)\n",
    "    else:\n",
    "        y_pred_f.append(0)"
   ]
  },
  {
   "cell_type": "code",
   "execution_count": 45,
   "id": "b83d86f7",
   "metadata": {},
   "outputs": [
    {
     "data": {
      "text/plain": [
       "[0, 0, 0, 0, 0, 0, 0, 0, 0, 0]"
      ]
     },
     "execution_count": 45,
     "metadata": {},
     "output_type": "execute_result"
    }
   ],
   "source": [
    "y_pred_f[5:15]"
   ]
  },
  {
   "cell_type": "code",
   "execution_count": 46,
   "id": "d9c37e61",
   "metadata": {},
   "outputs": [
    {
     "name": "stdout",
     "output_type": "stream",
     "text": [
      "0.8436666666666667\n",
      "\n",
      "0.4383233532934132\n"
     ]
    }
   ],
   "source": [
    "from sklearn.metrics import accuracy_score, ConfusionMatrixDisplay, f1_score\n",
    "\n",
    "print(accuracy_score(y_test,y_pred_f))\n",
    "print()\n",
    "print(f1_score(y_test,y_pred_f))"
   ]
  },
  {
   "cell_type": "code",
   "execution_count": 47,
   "id": "24215f7d",
   "metadata": {},
   "outputs": [
    {
     "data": {
      "text/plain": [
       "<sklearn.metrics._plot.confusion_matrix.ConfusionMatrixDisplay at 0x21bfbf50c90>"
      ]
     },
     "execution_count": 47,
     "metadata": {},
     "output_type": "execute_result"
    },
    {
     "data": {
      "image/png": "[encoded data removed]",
      "text/plain": [
       "<Figure size 640x480 with 2 Axes>"
      ]
     },
     "metadata": {},
     "output_type": "display_data"
    }
   ],
   "source": [
    "ConfusionMatrixDisplay.from_predictions(y_test,y_pred_f)"
   ]
  },
  {
   "cell_type": "code",
   "execution_count": 48,
   "id": "db3d8369",
   "metadata": {},
   "outputs": [
    {
     "name": "stdout",
     "output_type": "stream",
     "text": [
      "              precision    recall  f1-score   support\n",
      "\n",
      "           0       0.85      0.98      0.91      2389\n",
      "           1       0.82      0.30      0.44       611\n",
      "\n",
      "    accuracy                           0.84      3000\n",
      "   macro avg       0.83      0.64      0.67      3000\n",
      "weighted avg       0.84      0.84      0.81      3000\n",
      "\n"
     ]
    }
   ],
   "source": [
    "from sklearn.metrics import classification_report\n",
    "\n",
    "print(classification_report(y_test,y_pred_f))"
   ]
  },
  {
   "cell_type": "markdown",
   "id": "a720f892",
   "metadata": {},
   "source": [
    "## Handling Imbalanced data"
   ]
  },
  {
   "cell_type": "code",
   "execution_count": 10,
   "id": "66fa857e",
   "metadata": {},
   "outputs": [
    {
     "name": "stdout",
     "output_type": "stream",
     "text": [
      "Requirement already satisfied: imblearn in c:\\users\\user\\anaconda3\\lib\\site-packages (0.0)\n",
      "Requirement already satisfied: imbalanced-learn in c:\\users\\user\\anaconda3\\lib\\site-packages (from imblearn) (0.10.1)\n",
      "Requirement already satisfied: numpy>=1.17.3 in c:\\users\\user\\anaconda3\\lib\\site-packages (from imbalanced-learn->imblearn) (1.24.3)\n",
      "Requirement already satisfied: scipy>=1.3.2 in c:\\users\\user\\anaconda3\\lib\\site-packages (from imbalanced-learn->imblearn) (1.11.1)\n",
      "Requirement already satisfied: scikit-learn>=1.0.2 in c:\\users\\user\\anaconda3\\lib\\site-packages (from imbalanced-learn->imblearn) (1.3.0)\n",
      "Requirement already satisfied: joblib>=1.1.1 in c:\\users\\user\\anaconda3\\lib\\site-packages (from imbalanced-learn->imblearn) (1.2.0)\n",
      "Requirement already satisfied: threadpoolctl>=2.0.0 in c:\\users\\user\\anaconda3\\lib\\site-packages (from imbalanced-learn->imblearn) (2.2.0)\n",
      "Note: you may need to restart the kernel to use updated packages.\n"
     ]
    }
   ],
   "source": [
    "pip install --upgrade imblearn"
   ]
  },
  {
   "cell_type": "code",
   "execution_count": 14,
   "id": "2afca530",
   "metadata": {},
   "outputs": [],
   "source": [
    "from imblearn.combine import SMOTETomek"
   ]
  },
  {
   "cell_type": "code",
   "execution_count": 15,
   "id": "160e2474",
   "metadata": {},
   "outputs": [
    {
     "data": {
      "text/plain": [
       "((10000, 11), (10000,))"
      ]
     },
     "execution_count": 15,
     "metadata": {},
     "output_type": "execute_result"
    }
   ],
   "source": [
    "X.shape, y.shape"
   ]
  },
  {
   "cell_type": "code",
   "execution_count": 16,
   "id": "15ad7d33",
   "metadata": {},
   "outputs": [],
   "source": [
    "sm = SMOTETomek(random_state=0)\n",
    "\n",
    "X_o, y_o = sm.fit_resample(X,y)"
   ]
  },
  {
   "cell_type": "code",
   "execution_count": 17,
   "id": "9f5fcd04",
   "metadata": {},
   "outputs": [
    {
     "data": {
      "text/plain": [
       "((13664, 11), (13664,))"
      ]
     },
     "execution_count": 17,
     "metadata": {},
     "output_type": "execute_result"
    }
   ],
   "source": [
    "X_o.shape, y_o.shape"
   ]
  },
  {
   "cell_type": "code",
   "execution_count": 18,
   "id": "0f2dfa7e",
   "metadata": {},
   "outputs": [
    {
     "data": {
      "text/plain": [
       "Exited\n",
       "0    6832\n",
       "1    6832\n",
       "Name: count, dtype: int64"
      ]
     },
     "execution_count": 18,
     "metadata": {},
     "output_type": "execute_result"
    }
   ],
   "source": [
    "y_o.value_counts()"
   ]
  },
  {
   "cell_type": "code",
   "execution_count": 19,
   "id": "78f498e5",
   "metadata": {},
   "outputs": [],
   "source": [
    "X_train_o, X_test_o, y_train_o, y_test_o = train_test_split(X_o, y_o, test_size=0.3, random_state=0)"
   ]
  },
  {
   "cell_type": "code",
   "execution_count": 29,
   "id": "13553343",
   "metadata": {},
   "outputs": [],
   "source": [
    "from sklearn.preprocessing import StandardScaler\n",
    "\n",
    "scaler = StandardScaler()\n",
    "\n",
    "X_train_o = scaler.fit_transform(X_train_o)\n",
    "X_test_o = scaler.transform(X_test_o)"
   ]
  },
  {
   "cell_type": "code",
   "execution_count": 30,
   "id": "af2fed93",
   "metadata": {},
   "outputs": [
    {
     "name": "stdout",
     "output_type": "stream",
     "text": [
      "Epoch 1/100\n",
      "154/154 [==============================] - 1s 4ms/step - loss: 0.6749 - accuracy: 0.5778 - val_loss: 0.6115 - val_accuracy: 0.7449\n",
      "Epoch 2/100\n",
      "154/154 [==============================] - 0s 3ms/step - loss: 0.6294 - accuracy: 0.6895 - val_loss: 0.5709 - val_accuracy: 0.7695\n",
      "Epoch 3/100\n",
      "154/154 [==============================] - 0s 3ms/step - loss: 0.6071 - accuracy: 0.7047 - val_loss: 0.5507 - val_accuracy: 0.7852\n",
      "Epoch 4/100\n",
      "154/154 [==============================] - 0s 3ms/step - loss: 0.5915 - accuracy: 0.7203 - val_loss: 0.5347 - val_accuracy: 0.7883\n",
      "Epoch 5/100\n",
      "154/154 [==============================] - 0s 3ms/step - loss: 0.5865 - accuracy: 0.7155 - val_loss: 0.5223 - val_accuracy: 0.7972\n",
      "Epoch 6/100\n",
      "154/154 [==============================] - 0s 3ms/step - loss: 0.5753 - accuracy: 0.7304 - val_loss: 0.5133 - val_accuracy: 0.7951\n",
      "Epoch 7/100\n",
      "154/154 [==============================] - 0s 3ms/step - loss: 0.5622 - accuracy: 0.7336 - val_loss: 0.5044 - val_accuracy: 0.7956\n",
      "Epoch 8/100\n",
      "154/154 [==============================] - 0s 3ms/step - loss: 0.5647 - accuracy: 0.7343 - val_loss: 0.5044 - val_accuracy: 0.7935\n",
      "Epoch 9/100\n",
      "154/154 [==============================] - 0s 3ms/step - loss: 0.5633 - accuracy: 0.7305 - val_loss: 0.4986 - val_accuracy: 0.7925\n",
      "Epoch 10/100\n",
      "154/154 [==============================] - 0s 3ms/step - loss: 0.5579 - accuracy: 0.7344 - val_loss: 0.4921 - val_accuracy: 0.7940\n",
      "Epoch 11/100\n",
      "154/154 [==============================] - 0s 3ms/step - loss: 0.5476 - accuracy: 0.7369 - val_loss: 0.4880 - val_accuracy: 0.7940\n",
      "Epoch 12/100\n",
      "154/154 [==============================] - 0s 3ms/step - loss: 0.5475 - accuracy: 0.7413 - val_loss: 0.4842 - val_accuracy: 0.7961\n",
      "Epoch 13/100\n",
      "154/154 [==============================] - 0s 3ms/step - loss: 0.5469 - accuracy: 0.7437 - val_loss: 0.4845 - val_accuracy: 0.7946\n",
      "Epoch 14/100\n",
      "154/154 [==============================] - 0s 3ms/step - loss: 0.5434 - accuracy: 0.7443 - val_loss: 0.4825 - val_accuracy: 0.7961\n",
      "Epoch 15/100\n",
      "154/154 [==============================] - 0s 3ms/step - loss: 0.5420 - accuracy: 0.7421 - val_loss: 0.4789 - val_accuracy: 0.7956\n",
      "Epoch 16/100\n",
      "154/154 [==============================] - 0s 3ms/step - loss: 0.5326 - accuracy: 0.7472 - val_loss: 0.4758 - val_accuracy: 0.7961\n",
      "Epoch 17/100\n",
      "154/154 [==============================] - 0s 3ms/step - loss: 0.5296 - accuracy: 0.7510 - val_loss: 0.4730 - val_accuracy: 0.7982\n",
      "Epoch 18/100\n",
      "154/154 [==============================] - 0s 3ms/step - loss: 0.5343 - accuracy: 0.7485 - val_loss: 0.4712 - val_accuracy: 0.8014\n",
      "Epoch 19/100\n",
      "154/154 [==============================] - 0s 3ms/step - loss: 0.5296 - accuracy: 0.7489 - val_loss: 0.4687 - val_accuracy: 0.7998\n",
      "Epoch 20/100\n",
      "154/154 [==============================] - 0s 3ms/step - loss: 0.5229 - accuracy: 0.7534 - val_loss: 0.4665 - val_accuracy: 0.7987\n",
      "Epoch 21/100\n",
      "154/154 [==============================] - 0s 3ms/step - loss: 0.5223 - accuracy: 0.7510 - val_loss: 0.4648 - val_accuracy: 0.7977\n",
      "Epoch 22/100\n",
      "154/154 [==============================] - 0s 3ms/step - loss: 0.5124 - accuracy: 0.7594 - val_loss: 0.4623 - val_accuracy: 0.8024\n",
      "Epoch 23/100\n",
      "154/154 [==============================] - 0s 3ms/step - loss: 0.5084 - accuracy: 0.7620 - val_loss: 0.4597 - val_accuracy: 0.8040\n",
      "Epoch 24/100\n",
      "154/154 [==============================] - 0s 3ms/step - loss: 0.5105 - accuracy: 0.7679 - val_loss: 0.4589 - val_accuracy: 0.8040\n",
      "Epoch 25/100\n",
      "154/154 [==============================] - 0s 3ms/step - loss: 0.5070 - accuracy: 0.7653 - val_loss: 0.4572 - val_accuracy: 0.8050\n",
      "Epoch 26/100\n",
      "154/154 [==============================] - 0s 3ms/step - loss: 0.5102 - accuracy: 0.7606 - val_loss: 0.4543 - val_accuracy: 0.8066\n",
      "Epoch 27/100\n",
      "154/154 [==============================] - 0s 3ms/step - loss: 0.5041 - accuracy: 0.7714 - val_loss: 0.4555 - val_accuracy: 0.8071\n",
      "Epoch 28/100\n",
      "154/154 [==============================] - 0s 3ms/step - loss: 0.4909 - accuracy: 0.7800 - val_loss: 0.4492 - val_accuracy: 0.8071\n",
      "Epoch 29/100\n",
      "154/154 [==============================] - 0s 3ms/step - loss: 0.4933 - accuracy: 0.7800 - val_loss: 0.4498 - val_accuracy: 0.8071\n",
      "Epoch 30/100\n",
      "154/154 [==============================] - 0s 3ms/step - loss: 0.4944 - accuracy: 0.7774 - val_loss: 0.4477 - val_accuracy: 0.8071\n",
      "Epoch 31/100\n",
      "154/154 [==============================] - 0s 3ms/step - loss: 0.4970 - accuracy: 0.7773 - val_loss: 0.4471 - val_accuracy: 0.8066\n",
      "Epoch 32/100\n",
      "154/154 [==============================] - 0s 3ms/step - loss: 0.4932 - accuracy: 0.7740 - val_loss: 0.4442 - val_accuracy: 0.8076\n",
      "Epoch 33/100\n",
      "154/154 [==============================] - 0s 3ms/step - loss: 0.4873 - accuracy: 0.7847 - val_loss: 0.4439 - val_accuracy: 0.8118\n",
      "Epoch 34/100\n",
      "154/154 [==============================] - 1s 4ms/step - loss: 0.4836 - accuracy: 0.7820 - val_loss: 0.4431 - val_accuracy: 0.8102\n",
      "Epoch 35/100\n",
      "154/154 [==============================] - 0s 3ms/step - loss: 0.4894 - accuracy: 0.7768 - val_loss: 0.4393 - val_accuracy: 0.8092\n",
      "Epoch 36/100\n",
      "154/154 [==============================] - 0s 3ms/step - loss: 0.4750 - accuracy: 0.7876 - val_loss: 0.4329 - val_accuracy: 0.8113\n",
      "Epoch 37/100\n",
      "154/154 [==============================] - 0s 3ms/step - loss: 0.4743 - accuracy: 0.7867 - val_loss: 0.4336 - val_accuracy: 0.8108\n",
      "Epoch 38/100\n",
      "154/154 [==============================] - 0s 3ms/step - loss: 0.4731 - accuracy: 0.7864 - val_loss: 0.4302 - val_accuracy: 0.8071\n",
      "Epoch 39/100\n",
      "154/154 [==============================] - 0s 3ms/step - loss: 0.4785 - accuracy: 0.7856 - val_loss: 0.4306 - val_accuracy: 0.8092\n",
      "Epoch 40/100\n",
      "154/154 [==============================] - 0s 3ms/step - loss: 0.4733 - accuracy: 0.7883 - val_loss: 0.4311 - val_accuracy: 0.8102\n",
      "Epoch 41/100\n",
      "154/154 [==============================] - 0s 3ms/step - loss: 0.4766 - accuracy: 0.7817 - val_loss: 0.4331 - val_accuracy: 0.8097\n",
      "Epoch 42/100\n",
      "154/154 [==============================] - 0s 3ms/step - loss: 0.4692 - accuracy: 0.7913 - val_loss: 0.4301 - val_accuracy: 0.8087\n",
      "Epoch 43/100\n",
      "154/154 [==============================] - 0s 3ms/step - loss: 0.4747 - accuracy: 0.7838 - val_loss: 0.4294 - val_accuracy: 0.8123\n",
      "Epoch 44/100\n",
      "154/154 [==============================] - 0s 3ms/step - loss: 0.4669 - accuracy: 0.7880 - val_loss: 0.4269 - val_accuracy: 0.8123\n",
      "Epoch 45/100\n",
      "154/154 [==============================] - 0s 3ms/step - loss: 0.4662 - accuracy: 0.7930 - val_loss: 0.4281 - val_accuracy: 0.8150\n",
      "Epoch 46/100\n",
      "154/154 [==============================] - 0s 3ms/step - loss: 0.4615 - accuracy: 0.7986 - val_loss: 0.4257 - val_accuracy: 0.8155\n",
      "Epoch 47/100\n",
      "154/154 [==============================] - 0s 3ms/step - loss: 0.4683 - accuracy: 0.7887 - val_loss: 0.4253 - val_accuracy: 0.8150\n",
      "Epoch 48/100\n",
      "154/154 [==============================] - 0s 3ms/step - loss: 0.4675 - accuracy: 0.7922 - val_loss: 0.4248 - val_accuracy: 0.8144\n",
      "Epoch 49/100\n",
      "154/154 [==============================] - 0s 3ms/step - loss: 0.4585 - accuracy: 0.7945 - val_loss: 0.4250 - val_accuracy: 0.8155\n",
      "Epoch 50/100\n",
      "154/154 [==============================] - 0s 3ms/step - loss: 0.4661 - accuracy: 0.7892 - val_loss: 0.4247 - val_accuracy: 0.8160\n",
      "Epoch 51/100\n",
      "154/154 [==============================] - 0s 3ms/step - loss: 0.4650 - accuracy: 0.7924 - val_loss: 0.4239 - val_accuracy: 0.8176\n",
      "Epoch 52/100\n",
      "154/154 [==============================] - 0s 3ms/step - loss: 0.4604 - accuracy: 0.7941 - val_loss: 0.4223 - val_accuracy: 0.8150\n",
      "Epoch 53/100\n",
      "154/154 [==============================] - 0s 3ms/step - loss: 0.4587 - accuracy: 0.7956 - val_loss: 0.4212 - val_accuracy: 0.8134\n",
      "Epoch 54/100\n",
      "154/154 [==============================] - 0s 3ms/step - loss: 0.4607 - accuracy: 0.7961 - val_loss: 0.4225 - val_accuracy: 0.8155\n",
      "Epoch 55/100\n",
      "154/154 [==============================] - 0s 3ms/step - loss: 0.4653 - accuracy: 0.7932 - val_loss: 0.4218 - val_accuracy: 0.8165\n",
      "Epoch 56/100\n",
      "154/154 [==============================] - 0s 3ms/step - loss: 0.4558 - accuracy: 0.7974 - val_loss: 0.4229 - val_accuracy: 0.8150\n",
      "Epoch 57/100\n",
      "154/154 [==============================] - 0s 3ms/step - loss: 0.4641 - accuracy: 0.7947 - val_loss: 0.4199 - val_accuracy: 0.8170\n"
     ]
    },
    {
     "name": "stdout",
     "output_type": "stream",
     "text": [
      "Epoch 58/100\n",
      "154/154 [==============================] - 0s 3ms/step - loss: 0.4581 - accuracy: 0.7934 - val_loss: 0.4183 - val_accuracy: 0.8139\n",
      "Epoch 59/100\n",
      "154/154 [==============================] - 0s 3ms/step - loss: 0.4562 - accuracy: 0.7999 - val_loss: 0.4220 - val_accuracy: 0.8108\n",
      "Epoch 60/100\n",
      "154/154 [==============================] - 0s 3ms/step - loss: 0.4555 - accuracy: 0.7957 - val_loss: 0.4205 - val_accuracy: 0.8150\n",
      "Epoch 61/100\n",
      "154/154 [==============================] - 0s 2ms/step - loss: 0.4531 - accuracy: 0.7961 - val_loss: 0.4188 - val_accuracy: 0.8118\n",
      "Epoch 62/100\n",
      "154/154 [==============================] - 0s 3ms/step - loss: 0.4629 - accuracy: 0.7939 - val_loss: 0.4218 - val_accuracy: 0.8097\n",
      "Epoch 63/100\n",
      "154/154 [==============================] - 0s 3ms/step - loss: 0.4571 - accuracy: 0.7941 - val_loss: 0.4187 - val_accuracy: 0.8092\n",
      "Epoch 64/100\n",
      "154/154 [==============================] - 0s 2ms/step - loss: 0.4606 - accuracy: 0.7960 - val_loss: 0.4183 - val_accuracy: 0.8134\n",
      "Epoch 65/100\n",
      "154/154 [==============================] - 0s 3ms/step - loss: 0.4552 - accuracy: 0.7981 - val_loss: 0.4168 - val_accuracy: 0.8150\n",
      "Epoch 66/100\n",
      "154/154 [==============================] - 0s 3ms/step - loss: 0.4621 - accuracy: 0.7948 - val_loss: 0.4195 - val_accuracy: 0.8176\n",
      "Epoch 67/100\n",
      "154/154 [==============================] - 0s 3ms/step - loss: 0.4534 - accuracy: 0.8026 - val_loss: 0.4179 - val_accuracy: 0.8118\n",
      "Epoch 68/100\n",
      "154/154 [==============================] - 0s 3ms/step - loss: 0.4527 - accuracy: 0.7998 - val_loss: 0.4159 - val_accuracy: 0.8129\n",
      "Epoch 69/100\n",
      "154/154 [==============================] - 0s 3ms/step - loss: 0.4540 - accuracy: 0.8059 - val_loss: 0.4161 - val_accuracy: 0.8129\n",
      "Epoch 70/100\n",
      "154/154 [==============================] - 0s 3ms/step - loss: 0.4585 - accuracy: 0.7972 - val_loss: 0.4174 - val_accuracy: 0.8139\n",
      "Epoch 71/100\n",
      "154/154 [==============================] - 0s 3ms/step - loss: 0.4538 - accuracy: 0.8015 - val_loss: 0.4156 - val_accuracy: 0.8118\n",
      "Epoch 72/100\n",
      "154/154 [==============================] - 0s 3ms/step - loss: 0.4597 - accuracy: 0.7972 - val_loss: 0.4168 - val_accuracy: 0.8139\n",
      "Epoch 73/100\n",
      "154/154 [==============================] - 0s 2ms/step - loss: 0.4513 - accuracy: 0.8032 - val_loss: 0.4148 - val_accuracy: 0.8150\n",
      "Epoch 74/100\n",
      "154/154 [==============================] - 0s 2ms/step - loss: 0.4509 - accuracy: 0.7991 - val_loss: 0.4146 - val_accuracy: 0.8113\n",
      "Epoch 75/100\n",
      "154/154 [==============================] - 0s 3ms/step - loss: 0.4508 - accuracy: 0.8060 - val_loss: 0.4138 - val_accuracy: 0.8165\n",
      "Epoch 76/100\n",
      "154/154 [==============================] - 0s 3ms/step - loss: 0.4538 - accuracy: 0.7953 - val_loss: 0.4152 - val_accuracy: 0.8139\n",
      "Epoch 77/100\n",
      "154/154 [==============================] - 0s 3ms/step - loss: 0.4497 - accuracy: 0.8002 - val_loss: 0.4130 - val_accuracy: 0.8186\n",
      "Epoch 78/100\n",
      "154/154 [==============================] - 0s 3ms/step - loss: 0.4515 - accuracy: 0.8021 - val_loss: 0.4148 - val_accuracy: 0.8129\n",
      "Epoch 79/100\n",
      "154/154 [==============================] - 0s 3ms/step - loss: 0.4598 - accuracy: 0.7962 - val_loss: 0.4153 - val_accuracy: 0.8144\n",
      "Epoch 80/100\n",
      "154/154 [==============================] - 0s 3ms/step - loss: 0.4503 - accuracy: 0.8004 - val_loss: 0.4149 - val_accuracy: 0.8118\n",
      "Epoch 81/100\n",
      "154/154 [==============================] - 0s 3ms/step - loss: 0.4535 - accuracy: 0.7992 - val_loss: 0.4139 - val_accuracy: 0.8108\n",
      "Epoch 82/100\n",
      "154/154 [==============================] - 0s 3ms/step - loss: 0.4534 - accuracy: 0.7983 - val_loss: 0.4143 - val_accuracy: 0.8118\n",
      "Epoch 83/100\n",
      "154/154 [==============================] - 0s 3ms/step - loss: 0.4513 - accuracy: 0.7998 - val_loss: 0.4119 - val_accuracy: 0.8165\n",
      "Epoch 84/100\n",
      "154/154 [==============================] - 0s 2ms/step - loss: 0.4480 - accuracy: 0.8029 - val_loss: 0.4146 - val_accuracy: 0.8160\n",
      "Epoch 85/100\n",
      "154/154 [==============================] - 0s 2ms/step - loss: 0.4469 - accuracy: 0.8028 - val_loss: 0.4136 - val_accuracy: 0.8134\n",
      "Epoch 86/100\n",
      "154/154 [==============================] - 0s 2ms/step - loss: 0.4558 - accuracy: 0.7969 - val_loss: 0.4147 - val_accuracy: 0.8144\n",
      "Epoch 87/100\n",
      "154/154 [==============================] - 0s 3ms/step - loss: 0.4513 - accuracy: 0.7995 - val_loss: 0.4143 - val_accuracy: 0.8160\n",
      "Epoch 88/100\n",
      "154/154 [==============================] - 0s 2ms/step - loss: 0.4507 - accuracy: 0.7999 - val_loss: 0.4142 - val_accuracy: 0.8176\n",
      "Epoch 89/100\n",
      "154/154 [==============================] - 0s 3ms/step - loss: 0.4553 - accuracy: 0.7990 - val_loss: 0.4137 - val_accuracy: 0.8144\n",
      "Epoch 90/100\n",
      "154/154 [==============================] - 0s 3ms/step - loss: 0.4485 - accuracy: 0.7974 - val_loss: 0.4124 - val_accuracy: 0.8181\n",
      "Epoch 91/100\n",
      "154/154 [==============================] - 0s 3ms/step - loss: 0.4511 - accuracy: 0.8008 - val_loss: 0.4121 - val_accuracy: 0.8186\n",
      "Epoch 92/100\n",
      "154/154 [==============================] - 0s 3ms/step - loss: 0.4533 - accuracy: 0.7961 - val_loss: 0.4130 - val_accuracy: 0.8197\n",
      "Epoch 93/100\n",
      "154/154 [==============================] - 1s 3ms/step - loss: 0.4461 - accuracy: 0.8032 - val_loss: 0.4122 - val_accuracy: 0.8160\n",
      "Epoch 94/100\n",
      "154/154 [==============================] - 1s 3ms/step - loss: 0.4505 - accuracy: 0.7978 - val_loss: 0.4119 - val_accuracy: 0.8181\n",
      "Epoch 95/100\n",
      "154/154 [==============================] - 0s 3ms/step - loss: 0.4477 - accuracy: 0.7985 - val_loss: 0.4129 - val_accuracy: 0.8165\n",
      "Epoch 96/100\n",
      "154/154 [==============================] - 0s 3ms/step - loss: 0.4512 - accuracy: 0.8000 - val_loss: 0.4112 - val_accuracy: 0.8217\n",
      "Epoch 97/100\n",
      "154/154 [==============================] - 0s 3ms/step - loss: 0.4438 - accuracy: 0.8036 - val_loss: 0.4093 - val_accuracy: 0.8155\n",
      "Epoch 98/100\n",
      "154/154 [==============================] - 0s 3ms/step - loss: 0.4464 - accuracy: 0.8034 - val_loss: 0.4095 - val_accuracy: 0.8202\n",
      "Epoch 99/100\n",
      "154/154 [==============================] - 0s 3ms/step - loss: 0.4455 - accuracy: 0.8059 - val_loss: 0.4105 - val_accuracy: 0.8181\n",
      "Epoch 100/100\n",
      "154/154 [==============================] - 0s 3ms/step - loss: 0.4480 - accuracy: 0.8032 - val_loss: 0.4111 - val_accuracy: 0.8170\n"
     ]
    }
   ],
   "source": [
    "model_history1 = classifier.fit(X_train_o, y_train_o, validation_split=0.2, batch_size=50, epochs=100)"
   ]
  },
  {
   "cell_type": "code",
   "execution_count": 32,
   "id": "e3ccd1c2",
   "metadata": {},
   "outputs": [
    {
     "name": "stdout",
     "output_type": "stream",
     "text": [
      "129/129 [==============================] - 0s 2ms/step - loss: 0.4165 - accuracy: 0.8154\n"
     ]
    },
    {
     "data": {
      "text/plain": [
       "[0.4164990186691284, 0.8153658509254456]"
      ]
     },
     "execution_count": 32,
     "metadata": {},
     "output_type": "execute_result"
    }
   ],
   "source": [
    "classifier.evaluate(X_test_o, y_test_o)"
   ]
  },
  {
   "cell_type": "code",
   "execution_count": 33,
   "id": "1a13c8c4",
   "metadata": {},
   "outputs": [
    {
     "name": "stdout",
     "output_type": "stream",
     "text": [
      "129/129 [==============================] - 0s 1ms/step\n"
     ]
    }
   ],
   "source": [
    "y_pred_o = classifier.predict(X_test_o)"
   ]
  },
  {
   "cell_type": "code",
   "execution_count": 34,
   "id": "efb9d2d7",
   "metadata": {},
   "outputs": [
    {
     "data": {
      "text/plain": [
       "array([[0.3982851 ],\n",
       "       [0.8727771 ],\n",
       "       [0.94803196],\n",
       "       [0.7555784 ],\n",
       "       [0.784022  ]], dtype=float32)"
      ]
     },
     "execution_count": 34,
     "metadata": {},
     "output_type": "execute_result"
    }
   ],
   "source": [
    "y_pred_o[:5]"
   ]
  },
  {
   "cell_type": "code",
   "execution_count": 35,
   "id": "85e0f222",
   "metadata": {},
   "outputs": [],
   "source": [
    "y_predf_o = []\n",
    "\n",
    "for i in y_pred_o:\n",
    "    if i>0.5:\n",
    "        y_predf_o.append(1)\n",
    "    else:\n",
    "        y_predf_o.append(0)"
   ]
  },
  {
   "cell_type": "code",
   "execution_count": 36,
   "id": "1880aef4",
   "metadata": {},
   "outputs": [
    {
     "data": {
      "text/plain": [
       "[0, 1, 1, 1, 1]"
      ]
     },
     "execution_count": 36,
     "metadata": {},
     "output_type": "execute_result"
    }
   ],
   "source": [
    "y_predf_o[:5]"
   ]
  },
  {
   "cell_type": "code",
   "execution_count": 37,
   "id": "23c15954",
   "metadata": {},
   "outputs": [],
   "source": [
    "from sklearn.metrics import accuracy_score, ConfusionMatrixDisplay, f1_score, classification_report"
   ]
  },
  {
   "cell_type": "code",
   "execution_count": 39,
   "id": "b4d9cd79",
   "metadata": {},
   "outputs": [
    {
     "name": "stdout",
     "output_type": "stream",
     "text": [
      "0.8153658536585365\n",
      "\n",
      "0.8239944199023482\n"
     ]
    }
   ],
   "source": [
    "print(accuracy_score(y_test_o,y_predf_o))\n",
    "print()\n",
    "print(f1_score(y_test_o,y_predf_o))"
   ]
  },
  {
   "cell_type": "code",
   "execution_count": 41,
   "id": "03243e78",
   "metadata": {},
   "outputs": [
    {
     "data": {
      "text/plain": [
       "<sklearn.metrics._plot.confusion_matrix.ConfusionMatrixDisplay at 0x23b53974c90>"
      ]
     },
     "execution_count": 41,
     "metadata": {},
     "output_type": "execute_result"
    },
    {
     "data": {
      "image/png": "[encoded data removed]",
      "text/plain": [
       "<Figure size 640x480 with 2 Axes>"
      ]
     },
     "metadata": {},
     "output_type": "display_data"
    }
   ],
   "source": [
    "ConfusionMatrixDisplay.from_predictions(y_test_o, y_predf_o)"
   ]
  },
  {
   "cell_type": "code",
   "execution_count": 40,
   "id": "5d80b636",
   "metadata": {},
   "outputs": [
    {
     "name": "stdout",
     "output_type": "stream",
     "text": [
      "              precision    recall  f1-score   support\n",
      "\n",
      "           0       0.84      0.77      0.81      2028\n",
      "           1       0.79      0.86      0.82      2072\n",
      "\n",
      "    accuracy                           0.82      4100\n",
      "   macro avg       0.82      0.81      0.81      4100\n",
      "weighted avg       0.82      0.82      0.82      4100\n",
      "\n"
     ]
    }
   ],
   "source": [
    "print(classification_report(y_test_o, y_predf_o))"
   ]
  },
  {
   "cell_type": "markdown",
   "id": "50a639aa",
   "metadata": {},
   "source": [
    "#### We note that after handling the imbalance in the dataset using SMOTETomek, the f1-score has improved from 0.43 to 0.82!"
   ]
  },
  {
   "cell_type": "code",
   "execution_count": null,
   "id": "e295b767",
   "metadata": {},
   "outputs": [],
   "source": []
  }
 ],
 "metadata": {
  "kernelspec": {
   "display_name": "Python 3 (ipykernel)",
   "language": "python",
   "name": "python3"
  },
  "language_info": {
   "codemirror_mode": {
    "name": "ipython",
    "version": 3
   },
   "file_extension": ".py",
   "mimetype": "text/x-python",
   "name": "python",
   "nbconvert_exporter": "python",
   "pygments_lexer": "ipython3",
   "version": "3.11.5"
  },
  "varInspector": {
   "cols": {
    "lenName": 16,
    "lenType": 16,
    "lenVar": 40
   },
   "kernels_config": {
    "python": {
     "delete_cmd_postfix": "",
     "delete_cmd_prefix": "del ",
     "library": "var_list.py",
     "varRefreshCmd": "print(var_dic_list())"
    },
    "r": {
     "delete_cmd_postfix": ") ",
     "delete_cmd_prefix": "rm(",
     "library": "var_list.r",
     "varRefreshCmd": "cat(var_dic_list()) "
    }
   },
   "types_to_exclude": [
    "module",
    "function",
    "builtin_function_or_method",
    "instance",
    "_Feature"
   ],
   "window_display": false
  }
 },
 "nbformat": 4,
 "nbformat_minor": 5
}
